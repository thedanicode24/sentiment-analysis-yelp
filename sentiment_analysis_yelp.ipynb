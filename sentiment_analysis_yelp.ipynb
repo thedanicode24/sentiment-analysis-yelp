{
  "cells": [
    {
      "cell_type": "markdown",
      "id": "73a83c7b-b685-497b-80ac-278cc2423d76",
      "metadata": {
        "id": "73a83c7b-b685-497b-80ac-278cc2423d76"
      },
      "source": [
        "# Sentiment Analysis on Yelp Reviews Dataset"
      ]
    },
    {
      "cell_type": "markdown",
      "id": "0bf1c444-4890-4612-9a5d-15362c2eb719",
      "metadata": {
        "id": "0bf1c444-4890-4612-9a5d-15362c2eb719"
      },
      "source": [
        "## Step 0: Initialize Spark"
      ]
    },
    {
      "cell_type": "code",
      "execution_count": 1,
      "id": "a5ca78fd-f500-4c5a-8588-dbe9dccdda20",
      "metadata": {
        "colab": {
          "base_uri": "https://localhost:8080/"
        },
        "id": "a5ca78fd-f500-4c5a-8588-dbe9dccdda20",
        "outputId": "cc3315a1-c83d-43df-f61c-4326f0957b78"
      },
      "outputs": [
        {
          "name": "stdout",
          "output_type": "stream",
          "text": [
            "Spark version: 3.5.1\n"
          ]
        }
      ],
      "source": [
        "from pyspark.sql import SparkSession\n",
        "\n",
        "ss = SparkSession.builder \\\n",
        "    .appName(\"SentimentAnalysis\") \\\n",
        "    .config(\"spark.driver.memory\", \"6g\") \\\n",
        "    .config(\"spark.executor.memory\", \"6g\") \\\n",
        "    .getOrCreate()\n",
        "print(\"Spark version:\", ss.version)"
      ]
    },
    {
      "cell_type": "markdown",
      "id": "iMeZsfwXMYBO",
      "metadata": {
        "id": "iMeZsfwXMYBO"
      },
      "source": [
        "## Step 1: Import Libraries and Functions"
      ]
    },
    {
      "cell_type": "code",
      "execution_count": null,
      "id": "Md8Zoy_oMbQX",
      "metadata": {
        "id": "Md8Zoy_oMbQX"
      },
      "outputs": [],
      "source": [
        "import os\n",
        "\n",
        "# PySpark Core\n",
        "from pyspark.sql.functions import when\n",
        "\n",
        "# PySpark ML\n",
        "from pyspark.ml.classification import LogisticRegressionModel, LinearSVCModel, NaiveBayesModel\n",
        "from pyspark.ml import PipelineModel"
      ]
    },
    {
      "cell_type": "code",
      "execution_count": 42,
      "id": "vZjJFNx4jstP",
      "metadata": {
        "id": "vZjJFNx4jstP"
      },
      "outputs": [],
      "source": [
        "# Functions from scripts\n",
        "from model_utils.spark_metrics_utils import print_metrics, confusion_matrix\n",
        "from model_utils.model_utils import save_model\n",
        "from utils.table_utils import plot_dict_highlight_max\n",
        "from utils.time_utils import print_from_seconds_to_hours\n",
        "from utils.io_utils import save_dict, load_dict\n",
        "from pipelines import logistic_regression, naive_bayes, linear_svc\n",
        "from final_model.final_model import train_final_model, run_prediction"
      ]
    },
    {
      "cell_type": "code",
      "execution_count": 4,
      "id": "iJ0pg1qjETs0",
      "metadata": {
        "id": "iJ0pg1qjETs0"
      },
      "outputs": [],
      "source": [
        "# google colab\n",
        "from utils.colab_utils import zip_and_download"
      ]
    },
    {
      "cell_type": "code",
      "execution_count": 5,
      "id": "OXECYgvQHSfO",
      "metadata": {
        "id": "OXECYgvQHSfO"
      },
      "outputs": [],
      "source": [
        "scores_filename = 'scores.json'\n",
        "models_path = 'models'"
      ]
    },
    {
      "cell_type": "markdown",
      "id": "9fb1f2fc-910a-46b5-87a4-5de02e69f66a",
      "metadata": {
        "id": "9fb1f2fc-910a-46b5-87a4-5de02e69f66a"
      },
      "source": [
        "## Step 1: Download the dataset"
      ]
    },
    {
      "cell_type": "code",
      "execution_count": 6,
      "id": "rJWnfG0RAPwb",
      "metadata": {
        "colab": {
          "base_uri": "https://localhost:8080/",
          "height": 73
        },
        "id": "rJWnfG0RAPwb",
        "outputId": "2981f246-a541-4fa6-9ddd-26d612dbf961"
      },
      "outputs": [
        {
          "data": {
            "text/html": [
              "\n",
              "     <input type=\"file\" id=\"files-c64d6d86-a656-4f5f-971b-126cae41f97c\" name=\"files[]\" multiple disabled\n",
              "        style=\"border:none\" />\n",
              "     <output id=\"result-c64d6d86-a656-4f5f-971b-126cae41f97c\">\n",
              "      Upload widget is only available when the cell has been executed in the\n",
              "      current browser session. Please rerun this cell to enable.\n",
              "      </output>\n",
              "      <script>// Copyright 2017 Google LLC\n",
              "//\n",
              "// Licensed under the Apache License, Version 2.0 (the \"License\");\n",
              "// you may not use this file except in compliance with the License.\n",
              "// You may obtain a copy of the License at\n",
              "//\n",
              "//      http://www.apache.org/licenses/LICENSE-2.0\n",
              "//\n",
              "// Unless required by applicable law or agreed to in writing, software\n",
              "// distributed under the License is distributed on an \"AS IS\" BASIS,\n",
              "// WITHOUT WARRANTIES OR CONDITIONS OF ANY KIND, either express or implied.\n",
              "// See the License for the specific language governing permissions and\n",
              "// limitations under the License.\n",
              "\n",
              "/**\n",
              " * @fileoverview Helpers for google.colab Python module.\n",
              " */\n",
              "(function(scope) {\n",
              "function span(text, styleAttributes = {}) {\n",
              "  const element = document.createElement('span');\n",
              "  element.textContent = text;\n",
              "  for (const key of Object.keys(styleAttributes)) {\n",
              "    element.style[key] = styleAttributes[key];\n",
              "  }\n",
              "  return element;\n",
              "}\n",
              "\n",
              "// Max number of bytes which will be uploaded at a time.\n",
              "const MAX_PAYLOAD_SIZE = 100 * 1024;\n",
              "\n",
              "function _uploadFiles(inputId, outputId) {\n",
              "  const steps = uploadFilesStep(inputId, outputId);\n",
              "  const outputElement = document.getElementById(outputId);\n",
              "  // Cache steps on the outputElement to make it available for the next call\n",
              "  // to uploadFilesContinue from Python.\n",
              "  outputElement.steps = steps;\n",
              "\n",
              "  return _uploadFilesContinue(outputId);\n",
              "}\n",
              "\n",
              "// This is roughly an async generator (not supported in the browser yet),\n",
              "// where there are multiple asynchronous steps and the Python side is going\n",
              "// to poll for completion of each step.\n",
              "// This uses a Promise to block the python side on completion of each step,\n",
              "// then passes the result of the previous step as the input to the next step.\n",
              "function _uploadFilesContinue(outputId) {\n",
              "  const outputElement = document.getElementById(outputId);\n",
              "  const steps = outputElement.steps;\n",
              "\n",
              "  const next = steps.next(outputElement.lastPromiseValue);\n",
              "  return Promise.resolve(next.value.promise).then((value) => {\n",
              "    // Cache the last promise value to make it available to the next\n",
              "    // step of the generator.\n",
              "    outputElement.lastPromiseValue = value;\n",
              "    return next.value.response;\n",
              "  });\n",
              "}\n",
              "\n",
              "/**\n",
              " * Generator function which is called between each async step of the upload\n",
              " * process.\n",
              " * @param {string} inputId Element ID of the input file picker element.\n",
              " * @param {string} outputId Element ID of the output display.\n",
              " * @return {!Iterable<!Object>} Iterable of next steps.\n",
              " */\n",
              "function* uploadFilesStep(inputId, outputId) {\n",
              "  const inputElement = document.getElementById(inputId);\n",
              "  inputElement.disabled = false;\n",
              "\n",
              "  const outputElement = document.getElementById(outputId);\n",
              "  outputElement.innerHTML = '';\n",
              "\n",
              "  const pickedPromise = new Promise((resolve) => {\n",
              "    inputElement.addEventListener('change', (e) => {\n",
              "      resolve(e.target.files);\n",
              "    });\n",
              "  });\n",
              "\n",
              "  const cancel = document.createElement('button');\n",
              "  inputElement.parentElement.appendChild(cancel);\n",
              "  cancel.textContent = 'Cancel upload';\n",
              "  const cancelPromise = new Promise((resolve) => {\n",
              "    cancel.onclick = () => {\n",
              "      resolve(null);\n",
              "    };\n",
              "  });\n",
              "\n",
              "  // Wait for the user to pick the files.\n",
              "  const files = yield {\n",
              "    promise: Promise.race([pickedPromise, cancelPromise]),\n",
              "    response: {\n",
              "      action: 'starting',\n",
              "    }\n",
              "  };\n",
              "\n",
              "  cancel.remove();\n",
              "\n",
              "  // Disable the input element since further picks are not allowed.\n",
              "  inputElement.disabled = true;\n",
              "\n",
              "  if (!files) {\n",
              "    return {\n",
              "      response: {\n",
              "        action: 'complete',\n",
              "      }\n",
              "    };\n",
              "  }\n",
              "\n",
              "  for (const file of files) {\n",
              "    const li = document.createElement('li');\n",
              "    li.append(span(file.name, {fontWeight: 'bold'}));\n",
              "    li.append(span(\n",
              "        `(${file.type || 'n/a'}) - ${file.size} bytes, ` +\n",
              "        `last modified: ${\n",
              "            file.lastModifiedDate ? file.lastModifiedDate.toLocaleDateString() :\n",
              "                                    'n/a'} - `));\n",
              "    const percent = span('0% done');\n",
              "    li.appendChild(percent);\n",
              "\n",
              "    outputElement.appendChild(li);\n",
              "\n",
              "    const fileDataPromise = new Promise((resolve) => {\n",
              "      const reader = new FileReader();\n",
              "      reader.onload = (e) => {\n",
              "        resolve(e.target.result);\n",
              "      };\n",
              "      reader.readAsArrayBuffer(file);\n",
              "    });\n",
              "    // Wait for the data to be ready.\n",
              "    let fileData = yield {\n",
              "      promise: fileDataPromise,\n",
              "      response: {\n",
              "        action: 'continue',\n",
              "      }\n",
              "    };\n",
              "\n",
              "    // Use a chunked sending to avoid message size limits. See b/62115660.\n",
              "    let position = 0;\n",
              "    do {\n",
              "      const length = Math.min(fileData.byteLength - position, MAX_PAYLOAD_SIZE);\n",
              "      const chunk = new Uint8Array(fileData, position, length);\n",
              "      position += length;\n",
              "\n",
              "      const base64 = btoa(String.fromCharCode.apply(null, chunk));\n",
              "      yield {\n",
              "        response: {\n",
              "          action: 'append',\n",
              "          file: file.name,\n",
              "          data: base64,\n",
              "        },\n",
              "      };\n",
              "\n",
              "      let percentDone = fileData.byteLength === 0 ?\n",
              "          100 :\n",
              "          Math.round((position / fileData.byteLength) * 100);\n",
              "      percent.textContent = `${percentDone}% done`;\n",
              "\n",
              "    } while (position < fileData.byteLength);\n",
              "  }\n",
              "\n",
              "  // All done.\n",
              "  yield {\n",
              "    response: {\n",
              "      action: 'complete',\n",
              "    }\n",
              "  };\n",
              "}\n",
              "\n",
              "scope.google = scope.google || {};\n",
              "scope.google.colab = scope.google.colab || {};\n",
              "scope.google.colab._files = {\n",
              "  _uploadFiles,\n",
              "  _uploadFilesContinue,\n",
              "};\n",
              "})(self);\n",
              "</script> "
            ],
            "text/plain": [
              "<IPython.core.display.HTML object>"
            ]
          },
          "metadata": {},
          "output_type": "display_data"
        },
        {
          "name": "stdout",
          "output_type": "stream",
          "text": [
            "Saving kaggle.json to kaggle.json\n"
          ]
        }
      ],
      "source": [
        "# setup Kaggle API in google colab\n",
        "\n",
        "from google.colab import files\n",
        "import shutil\n",
        "import os\n",
        "\n",
        "kaggle = files.upload() # Upload kaggle.json manually\n",
        "os.makedirs(\"/root/.kaggle\", exist_ok=True)\n",
        "shutil.move(\"kaggle.json\", \"/root/.kaggle/kaggle.json\")\n",
        "os.chmod(\"/root/.kaggle/kaggle.json\", 600)"
      ]
    },
    {
      "cell_type": "code",
      "execution_count": 7,
      "id": "5338vwcZAC7_",
      "metadata": {
        "colab": {
          "base_uri": "https://localhost:8080/"
        },
        "id": "5338vwcZAC7_",
        "outputId": "8b11ea5f-3404-40fb-f5d3-fe7598977e0c"
      },
      "outputs": [
        {
          "name": "stdout",
          "output_type": "stream",
          "text": [
            "Dataset URL: https://www.kaggle.com/datasets/yelp-dataset/yelp-dataset\n",
            "License(s): other\n",
            "Downloading yelp-dataset.zip to /content\n",
            " 99% 4.04G/4.07G [00:53<00:00, 107MB/s] \n",
            "100% 4.07G/4.07G [00:54<00:00, 79.6MB/s]\n"
          ]
        }
      ],
      "source": [
        "!kaggle datasets download yelp-dataset/yelp-dataset"
      ]
    },
    {
      "cell_type": "code",
      "execution_count": 8,
      "id": "6a6c4888-e40e-49ec-aa51-62f683735932",
      "metadata": {
        "colab": {
          "base_uri": "https://localhost:8080/"
        },
        "id": "6a6c4888-e40e-49ec-aa51-62f683735932",
        "outputId": "1faa5549-a022-47ad-dfd0-f19bf266bdbc"
      },
      "outputs": [
        {
          "name": "stdout",
          "output_type": "stream",
          "text": [
            "Archive:  yelp-dataset.zip\n",
            "  inflating: Dataset_User_Agreement.pdf  \n",
            "  inflating: yelp_academic_dataset_business.json  \n",
            "  inflating: yelp_academic_dataset_checkin.json  \n",
            "  inflating: yelp_academic_dataset_review.json  \n",
            "  inflating: yelp_academic_dataset_tip.json  \n",
            "  inflating: yelp_academic_dataset_user.json  \n"
          ]
        }
      ],
      "source": [
        "!unzip yelp-dataset.zip"
      ]
    },
    {
      "cell_type": "markdown",
      "id": "8d05dc95-53b2-4714-ab89-bafe2285ffd1",
      "metadata": {
        "id": "8d05dc95-53b2-4714-ab89-bafe2285ffd1"
      },
      "source": [
        "## Step 3: Load the dataset"
      ]
    },
    {
      "cell_type": "code",
      "execution_count": 9,
      "id": "52b8a3ec-3cde-4ce4-9177-8342612bb06b",
      "metadata": {
        "colab": {
          "base_uri": "https://localhost:8080/"
        },
        "id": "52b8a3ec-3cde-4ce4-9177-8342612bb06b",
        "outputId": "52c146d5-7f89-4527-b8a2-96424df19bce"
      },
      "outputs": [
        {
          "name": "stdout",
          "output_type": "stream",
          "text": [
            "+--------------------+----+-------------------+-----+--------------------+-----+--------------------+------+--------------------+\n",
            "|         business_id|cool|               date|funny|           review_id|stars|                text|useful|             user_id|\n",
            "+--------------------+----+-------------------+-----+--------------------+-----+--------------------+------+--------------------+\n",
            "|znK6tMeegKf9YnGut...|   0|2021-04-16 22:02:21|    0|MmmrqbdupYBJq9jnl...|  5.0|Great little spot...|     0|TjD2S66AWxlKsPSQB...|\n",
            "|UxwpCVLgPWCeaRyet...|   0|2021-01-03 21:54:48|    0|1_uWX0bBJNnZjPEcp...|  5.0|James was super k...|     0|Vtfxxq3nxdYHRiH6O...|\n",
            "|eVI64EQymywsvMLmD...|   0|2020-11-01 19:50:03|    0|WVAEE47MnM3Sv2cvM...|  5.0|By far the best i...|     0|ZDw_qN5Fy6PE0gdbV...|\n",
            "|SPcPJfPgWzhjUDqVF...|   0|2021-03-24 05:53:49|    0|D5b6iooZZcJ8nG-9P...|  5.0|I thought that th...|     0|UvMDlX2wV4Md9OwGW...|\n",
            "|T5XzQ6YnVExvd0BOR...|   0|2016-06-13 21:25:10|    0|uDxnT7zWFnxEDxp5e...|  5.0|Aside from the re...|     0|ir9ixBZPzBwWe9IZ_...|\n",
            "+--------------------+----+-------------------+-----+--------------------+-----+--------------------+------+--------------------+\n",
            "only showing top 5 rows\n",
            "\n"
          ]
        }
      ],
      "source": [
        "yelp_df = ss.read.json(\"yelp_academic_dataset_review.json\")\n",
        "\n",
        "# store as Parquet for better performance and compression\n",
        "yelp_df.write.mode(\"overwrite\").parquet(\"yelp_parquet\")\n",
        "yelp_df = ss.read.parquet(\"yelp_parquet\")\n",
        "yelp_df.show(5)"
      ]
    },
    {
      "cell_type": "markdown",
      "id": "8ck2JajgRCEE",
      "metadata": {
        "id": "8ck2JajgRCEE"
      },
      "source": [
        " ## Step 4: Inspect the Dataset"
      ]
    },
    {
      "cell_type": "code",
      "execution_count": 10,
      "id": "vLAAc_1yRQrD",
      "metadata": {
        "colab": {
          "base_uri": "https://localhost:8080/"
        },
        "id": "vLAAc_1yRQrD",
        "outputId": "71bb7d3d-10d3-4615-c516-e665ed9cc48b"
      },
      "outputs": [
        {
          "name": "stdout",
          "output_type": "stream",
          "text": [
            "Number of columns: 9\n",
            "Number of reviews: 6990280\n"
          ]
        }
      ],
      "source": [
        "print(\"Number of columns:\", len(yelp_df.columns))\n",
        "print(\"Number of reviews:\", yelp_df.count())"
      ]
    },
    {
      "cell_type": "code",
      "execution_count": 11,
      "id": "DlfTHaNrQ1Ls",
      "metadata": {
        "colab": {
          "base_uri": "https://localhost:8080/"
        },
        "id": "DlfTHaNrQ1Ls",
        "outputId": "263a5bd5-c043-44a4-97fa-13f97fd1b4f8"
      },
      "outputs": [
        {
          "name": "stdout",
          "output_type": "stream",
          "text": [
            "root\n",
            " |-- business_id: string (nullable = true)\n",
            " |-- cool: long (nullable = true)\n",
            " |-- date: string (nullable = true)\n",
            " |-- funny: long (nullable = true)\n",
            " |-- review_id: string (nullable = true)\n",
            " |-- stars: double (nullable = true)\n",
            " |-- text: string (nullable = true)\n",
            " |-- useful: long (nullable = true)\n",
            " |-- user_id: string (nullable = true)\n",
            "\n"
          ]
        }
      ],
      "source": [
        "yelp_df.printSchema()"
      ]
    },
    {
      "cell_type": "code",
      "execution_count": 12,
      "id": "70868903-d2a8-45ef-a0c1-a858da3ac5cf",
      "metadata": {
        "colab": {
          "base_uri": "https://localhost:8080/"
        },
        "id": "70868903-d2a8-45ef-a0c1-a858da3ac5cf",
        "outputId": "f316dae6-1b89-4f8d-bd56-42d4a4c59913"
      },
      "outputs": [
        {
          "name": "stdout",
          "output_type": "stream",
          "text": [
            "+--------------------+-----+\n",
            "|                text|stars|\n",
            "+--------------------+-----+\n",
            "|Great little spot...|  5.0|\n",
            "|James was super k...|  5.0|\n",
            "|By far the best i...|  5.0|\n",
            "|I thought that th...|  5.0|\n",
            "|Aside from the re...|  5.0|\n",
            "+--------------------+-----+\n",
            "only showing top 5 rows\n",
            "\n"
          ]
        }
      ],
      "source": [
        "data_df = yelp_df.select([\"text\", \"stars\"])\n",
        "data_df.show(5)"
      ]
    },
    {
      "cell_type": "markdown",
      "id": "y89cM9fqZ8Ni",
      "metadata": {
        "id": "y89cM9fqZ8Ni"
      },
      "source": [
        "## Step 5: Data Labeling / Preparing for Modeling"
      ]
    },
    {
      "cell_type": "code",
      "execution_count": 13,
      "id": "d4366a42-0bb8-4931-b5e6-a73fe343f55e",
      "metadata": {
        "colab": {
          "base_uri": "https://localhost:8080/"
        },
        "id": "d4366a42-0bb8-4931-b5e6-a73fe343f55e",
        "outputId": "615d218c-c61a-44c0-f598-d02912fd3c1d"
      },
      "outputs": [
        {
          "name": "stdout",
          "output_type": "stream",
          "text": [
            "+--------------------+-----+-----+\n",
            "|                text|stars|label|\n",
            "+--------------------+-----+-----+\n",
            "|Great little spot...|  5.0|    1|\n",
            "|James was super k...|  5.0|    1|\n",
            "|By far the best i...|  5.0|    1|\n",
            "|I thought that th...|  5.0|    1|\n",
            "|Aside from the re...|  5.0|    1|\n",
            "+--------------------+-----+-----+\n",
            "only showing top 5 rows\n",
            "\n"
          ]
        }
      ],
      "source": [
        "data_df = data_df.filter(\"stars!=3.0\")\n",
        "data_df = data_df.withColumn(\"label\", when(data_df[\"stars\"]>=3.5, 1).otherwise(0))\n",
        "\n",
        "data_df.show(5)"
      ]
    },
    {
      "cell_type": "markdown",
      "id": "m9zdKT5BzbZm",
      "metadata": {
        "id": "m9zdKT5BzbZm"
      },
      "source": [
        "## Step 6: Sample a subset of the data"
      ]
    },
    {
      "cell_type": "code",
      "execution_count": 14,
      "id": "OwSkLkZkza_H",
      "metadata": {
        "colab": {
          "base_uri": "https://localhost:8080/"
        },
        "id": "OwSkLkZkza_H",
        "outputId": "a7525905-205a-4205-ef8b-972b32d74c70"
      },
      "outputs": [
        {
          "name": "stdout",
          "output_type": "stream",
          "text": [
            "Number of reviews in subreviews dataframe: 62907\n"
          ]
        }
      ],
      "source": [
        "subreviews_df = data_df.sample(False, 0.01, seed=0)\n",
        "print(\"Number of reviews in subreviews dataframe: %d\" % subreviews_df.count())"
      ]
    },
    {
      "cell_type": "markdown",
      "id": "yhLnpVLsaa0H",
      "metadata": {
        "id": "yhLnpVLsaa0H"
      },
      "source": [
        "## Step 7: Split Data into Training and Test Sets"
      ]
    },
    {
      "cell_type": "code",
      "execution_count": 15,
      "id": "334e100f-e79f-43a1-a4f6-4b612117992c",
      "metadata": {
        "id": "334e100f-e79f-43a1-a4f6-4b612117992c"
      },
      "outputs": [],
      "source": [
        "train_df, test_df = subreviews_df.randomSplit([0.7, 0.3])"
      ]
    },
    {
      "cell_type": "markdown",
      "id": "BQq08srJ0ulw",
      "metadata": {
        "id": "BQq08srJ0ulw"
      },
      "source": [
        "## Step 8: Model Comparison and Evaluation"
      ]
    },
    {
      "cell_type": "markdown",
      "id": "C_S62ryFuDIe",
      "metadata": {
        "id": "C_S62ryFuDIe"
      },
      "source": [
        "### Logistic Regression"
      ]
    },
    {
      "cell_type": "code",
      "execution_count": 17,
      "id": "_JMvdRlwsm_L",
      "metadata": {
        "colab": {
          "base_uri": "https://localhost:8080/"
        },
        "id": "_JMvdRlwsm_L",
        "outputId": "fb07b02e-6f16-4e0e-f805-7f650dca9f31"
      },
      "outputs": [
        {
          "name": "stdout",
          "output_type": "stream",
          "text": [
            "Total time:  2h 25m 18s\n"
          ]
        }
      ],
      "source": [
        "lr_results = logistic_regression.run_lr(train_df, test_df)\n",
        "\n",
        "save_dict(scores_filename, {\"Logistic Regression\": lr_results[\"f1_score\"]})\n",
        "save_model(lr_results[\"model\"], models_path, 'lr_model')"
      ]
    },
    {
      "cell_type": "markdown",
      "id": "X4flqBhguJJe",
      "metadata": {
        "id": "X4flqBhguJJe"
      },
      "source": [
        "### Naive Bayes"
      ]
    },
    {
      "cell_type": "code",
      "execution_count": 18,
      "id": "WCGmjwvvso4o",
      "metadata": {
        "colab": {
          "base_uri": "https://localhost:8080/"
        },
        "id": "WCGmjwvvso4o",
        "outputId": "f2cb1caa-5ca2-408c-be5a-dd8cb2c89707"
      },
      "outputs": [
        {
          "name": "stdout",
          "output_type": "stream",
          "text": [
            "Total time:  0h 20m 14s\n"
          ]
        }
      ],
      "source": [
        "nb_results = naive_bayes.run_nb(train_df, test_df)\n",
        "\n",
        "save_dict(scores_filename, {\"Naive Bayes\": nb_results[\"f1_score\"]})\n",
        "save_model(nb_results[\"model\"], models_path, 'nb_model')"
      ]
    },
    {
      "cell_type": "markdown",
      "id": "xseQe8DnuNCE",
      "metadata": {
        "id": "xseQe8DnuNCE"
      },
      "source": [
        "### Linear SVC"
      ]
    },
    {
      "cell_type": "code",
      "execution_count": 19,
      "id": "a6tZpL2hsrY9",
      "metadata": {
        "colab": {
          "base_uri": "https://localhost:8080/"
        },
        "id": "a6tZpL2hsrY9",
        "outputId": "24e27885-b27c-47ad-ed14-a9884431f096"
      },
      "outputs": [
        {
          "name": "stdout",
          "output_type": "stream",
          "text": [
            "Total time:  3h 23m 30s\n"
          ]
        }
      ],
      "source": [
        "svc_results = linear_svc.run_linear_svc(train_df, test_df)\n",
        "\n",
        "save_dict(scores_filename, {\"Linear SVC\": svc_results[\"f1_score\"]})\n",
        "save_model(svc_results[\"model\"], models_path, 'svc_model')"
      ]
    },
    {
      "cell_type": "markdown",
      "id": "QVKx0TGDzfqK",
      "metadata": {
        "id": "QVKx0TGDzfqK"
      },
      "source": [
        "### Evaluation"
      ]
    },
    {
      "cell_type": "code",
      "execution_count": 20,
      "id": "MUkuEt586qg9",
      "metadata": {
        "colab": {
          "base_uri": "https://localhost:8080/",
          "height": 253
        },
        "id": "MUkuEt586qg9",
        "outputId": "a034d463-dbc7-4d12-9699-113d2ac958e1"
      },
      "outputs": [
        {
          "data": {
            "image/png": "[encoded data removed]",
            "text/plain": [
              "<Figure size 600x250 with 1 Axes>"
            ]
          },
          "metadata": {},
          "output_type": "display_data"
        }
      ],
      "source": [
        "f1_scores = load_dict(scores_filename)\n",
        "plot_dict_highlight_max(f1_scores, title=\"F1 scores\", col_label=\"Model\", val_label=\"Score\")"
      ]
    },
    {
      "cell_type": "code",
      "execution_count": 25,
      "id": "LP4LgCemagOj",
      "metadata": {
        "colab": {
          "base_uri": "https://localhost:8080/",
          "height": 17
        },
        "id": "LP4LgCemagOj",
        "outputId": "853f6ab8-ba0b-400a-b35d-f043363f12db"
      },
      "outputs": [
        {
          "data": {
            "application/javascript": "\n    async function download(id, filename, size) {\n      if (!google.colab.kernel.accessAllowed) {\n        return;\n      }\n      const div = document.createElement('div');\n      const label = document.createElement('label');\n      label.textContent = `Downloading \"${filename}\": `;\n      div.appendChild(label);\n      const progress = document.createElement('progress');\n      progress.max = size;\n      div.appendChild(progress);\n      document.body.appendChild(div);\n\n      const buffers = [];\n      let downloaded = 0;\n\n      const channel = await google.colab.kernel.comms.open(id);\n      // Send a message to notify the kernel that we're ready.\n      channel.send({})\n\n      for await (const message of channel.messages) {\n        // Send a message to notify the kernel that we're ready.\n        channel.send({})\n        if (message.buffers) {\n          for (const buffer of message.buffers) {\n            buffers.push(buffer);\n            downloaded += buffer.byteLength;\n            progress.value = downloaded;\n          }\n        }\n      }\n      const blob = new Blob(buffers, {type: 'application/binary'});\n      const a = document.createElement('a');\n      a.href = window.URL.createObjectURL(blob);\n      a.download = filename;\n      div.appendChild(a);\n      a.click();\n      div.remove();\n    }\n  ",
            "text/plain": [
              "<IPython.core.display.Javascript object>"
            ]
          },
          "metadata": {},
          "output_type": "display_data"
        },
        {
          "data": {
            "application/javascript": "download(\"download_ba6d759c-3531-434c-9521-161d1d5b842d\", \"lr_model.zip\", 405499)",
            "text/plain": [
              "<IPython.core.display.Javascript object>"
            ]
          },
          "metadata": {},
          "output_type": "display_data"
        },
        {
          "data": {
            "application/javascript": "\n    async function download(id, filename, size) {\n      if (!google.colab.kernel.accessAllowed) {\n        return;\n      }\n      const div = document.createElement('div');\n      const label = document.createElement('label');\n      label.textContent = `Downloading \"${filename}\": `;\n      div.appendChild(label);\n      const progress = document.createElement('progress');\n      progress.max = size;\n      div.appendChild(progress);\n      document.body.appendChild(div);\n\n      const buffers = [];\n      let downloaded = 0;\n\n      const channel = await google.colab.kernel.comms.open(id);\n      // Send a message to notify the kernel that we're ready.\n      channel.send({})\n\n      for await (const message of channel.messages) {\n        // Send a message to notify the kernel that we're ready.\n        channel.send({})\n        if (message.buffers) {\n          for (const buffer of message.buffers) {\n            buffers.push(buffer);\n            downloaded += buffer.byteLength;\n            progress.value = downloaded;\n          }\n        }\n      }\n      const blob = new Blob(buffers, {type: 'application/binary'});\n      const a = document.createElement('a');\n      a.href = window.URL.createObjectURL(blob);\n      a.download = filename;\n      div.appendChild(a);\n      a.click();\n      div.remove();\n    }\n  ",
            "text/plain": [
              "<IPython.core.display.Javascript object>"
            ]
          },
          "metadata": {},
          "output_type": "display_data"
        },
        {
          "data": {
            "application/javascript": "download(\"download_50380573-bdcb-48a5-80a6-134e897e620c\", \"nb_model.zip\", 199284)",
            "text/plain": [
              "<IPython.core.display.Javascript object>"
            ]
          },
          "metadata": {},
          "output_type": "display_data"
        },
        {
          "data": {
            "application/javascript": "\n    async function download(id, filename, size) {\n      if (!google.colab.kernel.accessAllowed) {\n        return;\n      }\n      const div = document.createElement('div');\n      const label = document.createElement('label');\n      label.textContent = `Downloading \"${filename}\": `;\n      div.appendChild(label);\n      const progress = document.createElement('progress');\n      progress.max = size;\n      div.appendChild(progress);\n      document.body.appendChild(div);\n\n      const buffers = [];\n      let downloaded = 0;\n\n      const channel = await google.colab.kernel.comms.open(id);\n      // Send a message to notify the kernel that we're ready.\n      channel.send({})\n\n      for await (const message of channel.messages) {\n        // Send a message to notify the kernel that we're ready.\n        channel.send({})\n        if (message.buffers) {\n          for (const buffer of message.buffers) {\n            buffers.push(buffer);\n            downloaded += buffer.byteLength;\n            progress.value = downloaded;\n          }\n        }\n      }\n      const blob = new Blob(buffers, {type: 'application/binary'});\n      const a = document.createElement('a');\n      a.href = window.URL.createObjectURL(blob);\n      a.download = filename;\n      div.appendChild(a);\n      a.click();\n      div.remove();\n    }\n  ",
            "text/plain": [
              "<IPython.core.display.Javascript object>"
            ]
          },
          "metadata": {},
          "output_type": "display_data"
        },
        {
          "data": {
            "application/javascript": "download(\"download_4e6a3b49-4e28-4022-a6eb-f496313265fb\", \"svc_model.zip\", 331039)",
            "text/plain": [
              "<IPython.core.display.Javascript object>"
            ]
          },
          "metadata": {},
          "output_type": "display_data"
        }
      ],
      "source": [
        "# download from google colab\n",
        "zip_and_download(\"models/lr_model\")\n",
        "zip_and_download(\"models/nb_model\")\n",
        "zip_and_download(\"models/svc_model\")"
      ]
    },
    {
      "cell_type": "code",
      "execution_count": 14,
      "id": "meJpSelq9lRS",
      "metadata": {
        "id": "meJpSelq9lRS"
      },
      "outputs": [],
      "source": [
        "selected_model = \"svc\""
      ]
    },
    {
      "cell_type": "markdown",
      "id": "r9GsKLHj8176",
      "metadata": {
        "id": "r9GsKLHj8176"
      },
      "source": [
        "## Step 12: Final Training and Testing on the Full Dataset"
      ]
    },
    {
      "cell_type": "code",
      "execution_count": 15,
      "id": "5AVAcDxw9Ff9",
      "metadata": {
        "id": "5AVAcDxw9Ff9"
      },
      "outputs": [],
      "source": [
        "train_df, test_df = data_df.randomSplit([0.9, 0.1])"
      ]
    },
    {
      "cell_type": "code",
      "execution_count": 16,
      "id": "7AvJ7_kn8Pje",
      "metadata": {
        "id": "7AvJ7_kn8Pje"
      },
      "outputs": [],
      "source": [
        "if selected_model==\"lr\":\n",
        "    lr_model = LogisticRegressionModel.load(\"models/lr_model\")\n",
        "    best_params = {\"regParam\": lr_model._java_obj.getRegParam(),\n",
        "                    \"elasticNetParam\": lr_model._java_obj.getElasticNetParam()}\n",
        "elif selected_model==\"nb\":\n",
        "    nb_model = NaiveBayesModel.load(\"models/nb_model\")\n",
        "    best_params = {\"smoothing\": nb_model._java_obj.getSmoothing()}\n",
        "elif selected_model==\"svc\":\n",
        "    svc_model = LinearSVCModel.load(\"models/svc_model\")\n",
        "    best_params = {\"regParam\": svc_model._java_obj.getRegParam(),\n",
        "                    \"maxIter\": svc_model._java_obj.getMaxIter()}\n",
        "else:\n",
        "    raise ValueError(f\"Unsupported model type: '{selected_model}'\")"
      ]
    },
    {
      "cell_type": "code",
      "execution_count": 17,
      "id": "wlFWW2nCG1Zq",
      "metadata": {
        "colab": {
          "base_uri": "https://localhost:8080/"
        },
        "id": "wlFWW2nCG1Zq",
        "outputId": "7d007ba2-2055-4510-b4bf-38d5e4595d1d"
      },
      "outputs": [
        {
          "name": "stdout",
          "output_type": "stream",
          "text": [
            "Total preprocessing:  1h 30m 28s\n",
            "Total training:  3h 11m 53s\n"
          ]
        },
        {
          "name": "stderr",
          "output_type": "stream",
          "text": [
            "/usr/local/lib/python3.11/dist-packages/pyspark/sql/context.py:158: FutureWarning: Deprecated in 3.0.0. Use SparkSession.builder.getOrCreate() instead.\n",
            "  warnings.warn(\n"
          ]
        }
      ],
      "source": [
        "model, metrics, preprocessing_model = train_final_model(train_df, test_df, best_params, selected_model)\n",
        "\n",
        "save_model(preprocessing_model, models_path, 'preprocessing_model')\n",
        "save_model(model, models_path, 'final_model')\n",
        "\n",
        "#preprocessing_model.write().overwrite().save(\"models/preprocessing_model\")"
      ]
    },
    {
      "cell_type": "code",
      "execution_count": 18,
      "id": "pRU5434O-8iJ",
      "metadata": {
        "colab": {
          "base_uri": "https://localhost:8080/"
        },
        "id": "pRU5434O-8iJ",
        "outputId": "0238610e-985a-4df5-b1e8-f7796ded4b35"
      },
      "outputs": [
        {
          "name": "stdout",
          "output_type": "stream",
          "text": [
            "       Metric    Score\n",
            "     Accuracy 0.948431\n",
            "Precision (0) 0.873725\n",
            "Precision (1) 0.976492\n",
            "   Recall (0) 0.933158\n",
            "   Recall (1) 0.953677\n",
            "       F1 (0) 0.902464\n",
            "       F1 (1) 0.964950\n",
            "  Weighted F1 0.948975\n"
          ]
        }
      ],
      "source": [
        "print_metrics(metrics)"
      ]
    },
    {
      "cell_type": "code",
      "execution_count": 19,
      "id": "L0q9MKgX_1aN",
      "metadata": {
        "colab": {
          "base_uri": "https://localhost:8080/",
          "height": 507
        },
        "id": "L0q9MKgX_1aN",
        "outputId": "c093a250-01b9-40b4-fd08-757642697508"
      },
      "outputs": [
        {
          "data": {
            "image/png": "[encoded data removed]",
            "text/plain": [
              "<Figure size 700x500 with 2 Axes>"
            ]
          },
          "metadata": {},
          "output_type": "display_data"
        }
      ],
      "source": [
        "confusion_matrix(metrics)"
      ]
    },
    {
      "cell_type": "code",
      "execution_count": null,
      "id": "_8KrxXCxHsMP",
      "metadata": {
        "colab": {
          "base_uri": "https://localhost:8080/",
          "height": 17
        },
        "id": "_8KrxXCxHsMP",
        "outputId": "92ff5cbd-1ef3-443a-d408-9d0bf2f599f1"
      },
      "outputs": [
        {
          "data": {
            "application/javascript": "\n    async function download(id, filename, size) {\n      if (!google.colab.kernel.accessAllowed) {\n        return;\n      }\n      const div = document.createElement('div');\n      const label = document.createElement('label');\n      label.textContent = `Downloading \"${filename}\": `;\n      div.appendChild(label);\n      const progress = document.createElement('progress');\n      progress.max = size;\n      div.appendChild(progress);\n      document.body.appendChild(div);\n\n      const buffers = [];\n      let downloaded = 0;\n\n      const channel = await google.colab.kernel.comms.open(id);\n      // Send a message to notify the kernel that we're ready.\n      channel.send({})\n\n      for await (const message of channel.messages) {\n        // Send a message to notify the kernel that we're ready.\n        channel.send({})\n        if (message.buffers) {\n          for (const buffer of message.buffers) {\n            buffers.push(buffer);\n            downloaded += buffer.byteLength;\n            progress.value = downloaded;\n          }\n        }\n      }\n      const blob = new Blob(buffers, {type: 'application/binary'});\n      const a = document.createElement('a');\n      a.href = window.URL.createObjectURL(blob);\n      a.download = filename;\n      div.appendChild(a);\n      a.click();\n      div.remove();\n    }\n  ",
            "text/plain": [
              "<IPython.core.display.Javascript object>"
            ]
          },
          "metadata": {},
          "output_type": "display_data"
        },
        {
          "data": {
            "application/javascript": "download(\"download_9004bbab-518f-45af-b41e-b35e48f3a23b\", \"preprocessing_model.zip\", 734571)",
            "text/plain": [
              "<IPython.core.display.Javascript object>"
            ]
          },
          "metadata": {},
          "output_type": "display_data"
        },
        {
          "data": {
            "application/javascript": "\n    async function download(id, filename, size) {\n      if (!google.colab.kernel.accessAllowed) {\n        return;\n      }\n      const div = document.createElement('div');\n      const label = document.createElement('label');\n      label.textContent = `Downloading \"${filename}\": `;\n      div.appendChild(label);\n      const progress = document.createElement('progress');\n      progress.max = size;\n      div.appendChild(progress);\n      document.body.appendChild(div);\n\n      const buffers = [];\n      let downloaded = 0;\n\n      const channel = await google.colab.kernel.comms.open(id);\n      // Send a message to notify the kernel that we're ready.\n      channel.send({})\n\n      for await (const message of channel.messages) {\n        // Send a message to notify the kernel that we're ready.\n        channel.send({})\n        if (message.buffers) {\n          for (const buffer of message.buffers) {\n            buffers.push(buffer);\n            downloaded += buffer.byteLength;\n            progress.value = downloaded;\n          }\n        }\n      }\n      const blob = new Blob(buffers, {type: 'application/binary'});\n      const a = document.createElement('a');\n      a.href = window.URL.createObjectURL(blob);\n      a.download = filename;\n      div.appendChild(a);\n      a.click();\n      div.remove();\n    }\n  ",
            "text/plain": [
              "<IPython.core.display.Javascript object>"
            ]
          },
          "metadata": {},
          "output_type": "display_data"
        },
        {
          "data": {
            "application/javascript": "download(\"download_31de988f-6a3c-45dc-80d9-a35370425511\", \"final_model.zip\", 1927366)",
            "text/plain": [
              "<IPython.core.display.Javascript object>"
            ]
          },
          "metadata": {},
          "output_type": "display_data"
        }
      ],
      "source": [
        "# download the model from google colab\n",
        "zip_and_download(\"models/preprocessing_model\")\n",
        "zip_and_download(\"models/final_model\")"
      ]
    },
    {
      "cell_type": "markdown",
      "id": "ZJvxVWP8dzIJ",
      "metadata": {
        "id": "ZJvxVWP8dzIJ"
      },
      "source": [
        "## Step 13: Predict Sentiment on Custom Reviews"
      ]
    },
    {
      "cell_type": "code",
      "execution_count": null,
      "id": "zxoNlO3kVMaH",
      "metadata": {
        "id": "zxoNlO3kVMaH"
      },
      "outputs": [],
      "source": [
        "selected_model=\"svc\"\n",
        "final_model_path=os.path.join(model_path, \"final_model\")\n",
        "preprocessing_model_path=os.path.join(model_path, \"preprocessing_model\")"
      ]
    },
    {
      "cell_type": "code",
      "execution_count": 44,
      "id": "sAh-GrqTLv_f",
      "metadata": {
        "id": "sAh-GrqTLv_f"
      },
      "outputs": [],
      "source": [
        "reviews = [ \"Great food!\",\n",
        "    \"Terrible service, will not return.\",\n",
        "    \"The atmosphere was cozy and the staff was super friendly. Food was delicious and arrived on time.\",\n",
        "    \"I waited 45 minutes for my meal and the waiter was rude. The food was cold when it finally came.\",\n",
        "    \"I had an amazing dinner at this restaurant last night. The appetizers were flavorful, the main course was cooked perfectly, and the dessert was heavenly. Highly recommend it for anyone looking for a great dining experience!\",\n",
        "    \"This place was a huge disappointment. We waited forever to get seated, the service was inattentive, and the food lacked any real flavor. To make matters worse, the restaurant was noisy and uncomfortable. Definitely not coming back.\",\n",
        "    \"Visited this restaurant twice last month. The first time the food was excellent, but the service was slow. On my second visit, the service improved but the food was just okay. The ambiance is nice though, so I might give it another shot sometime.\",\n",
        "    \"It was okay.\",\n",
        "    \"Loved the place! 🍕 The pizza was amazing and the staff was very welcoming.\",\n",
        "    \"Not impressed 😞. The pasta was overcooked and the waiter forgot our drinks.\"\n",
        "]\n"
      ]
    },
    {
      "cell_type": "code",
      "execution_count": 45,
      "id": "SmpvrBLLL9p7",
      "metadata": {
        "colab": {
          "base_uri": "https://localhost:8080/"
        },
        "id": "SmpvrBLLL9p7",
        "outputId": "69591412-f783-48d2-9347-b2fd9524c466"
      },
      "outputs": [
        {
          "name": "stdout",
          "output_type": "stream",
          "text": [
            "+--------------------+--------------------+----------+\n",
            "|                text|       rawPrediction|prediction|\n",
            "+--------------------+--------------------+----------+\n",
            "|         Great food!|[-0.3449430174876...|       1.0|\n",
            "|Terrible service,...|[0.55482429873258...|       0.0|\n",
            "|The atmosphere wa...|[-1.1644249313589...|       1.0|\n",
            "|I waited 45 minut...|[1.01637447999566...|       0.0|\n",
            "|I had an amazing ...|[-1.7037260207235...|       1.0|\n",
            "|This place was a ...|[1.89412024329983...|       0.0|\n",
            "|Visited this rest...|[0.22562034914535...|       0.0|\n",
            "|        It was okay.|[0.28191814458296...|       0.0|\n",
            "|Loved the place! ...|[-1.0164570139697...|       1.0|\n",
            "|Not impressed 😞....|[0.56611053119152...|       0.0|\n",
            "+--------------------+--------------------+----------+\n",
            "\n"
          ]
        }
      ],
      "source": [
        "run_prediction(\n",
        "    text_list=reviews,\n",
        "    selected_model=selected_model,\n",
        "    preprocessing_model_path=preprocessing_model_path,\n",
        "    final_model_path=final_model_path,\n",
        "    spark_session=ss\n",
        ")"
      ]
    },
    {
      "cell_type": "code",
      "execution_count": null,
      "id": "Fm4Vi-NoXuQL",
      "metadata": {
        "id": "Fm4Vi-NoXuQL"
      },
      "outputs": [],
      "source": []
    }
  ],
  "metadata": {
    "colab": {
      "provenance": []
    },
    "kernelspec": {
      "display_name": "Python 3",
      "language": "python",
      "name": "python3"
    },
    "language_info": {
      "codemirror_mode": {
        "name": "ipython",
        "version": 3
      },
      "file_extension": ".py",
      "mimetype": "text/x-python",
      "name": "python",
      "nbconvert_exporter": "python",
      "pygments_lexer": "ipython3",
      "version": "3.9.6"
    }
  },
  "nbformat": 4,
  "nbformat_minor": 5
}
